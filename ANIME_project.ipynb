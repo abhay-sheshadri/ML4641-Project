{
 "cells": [
  {
   "cell_type": "markdown",
   "metadata": {},
   "source": [
    "# CS 4641 Project: Artificial Neural Intelligence Machine Entity\n",
    "\n",
    "## Group 112: Abhay Sheshadri, Nick Chapman, Abdul Sayed, Kevin Xiao\n",
    "\n",
    "### Deadline: Tuesday, December 6, 2022 11:59 pm AOE"
   ]
  },
  {
   "cell_type": "code",
   "execution_count": null,
   "metadata": {},
   "outputs": [],
   "source": []
  }
 ],
 "metadata": {
  "kernelspec": {
   "display_name": "Python 3.10.8 64-bit (microsoft store)",
   "language": "python",
   "name": "python3"
  },
  "language_info": {
   "name": "python",
   "version": "3.10.8"
  },
  "orig_nbformat": 4,
  "vscode": {
   "interpreter": {
    "hash": "652d642533786c8cc8fd47a855e11456585ed8f5ab00e234c85a5ffc560df175"
   }
  }
 },
 "nbformat": 4,
 "nbformat_minor": 2
}
